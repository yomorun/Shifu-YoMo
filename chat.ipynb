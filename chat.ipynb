{
 "cells": [
  {
   "cell_type": "code",
   "execution_count": 1,
   "id": "96378364-6ed4-484b-9e0d-c19acae09b1c",
   "metadata": {},
   "outputs": [],
   "source": [
    "import os\n",
    "from getpass import getpass\n",
    "from openai import OpenAI\n",
    "\n",
    "api_key = os.getenv(\"VIVGRID_TOKEN\")\n",
    "if not api_key:\n",
    "    api_key = getpass(\"Enter your vivgrid token: \")\n",
    "\n",
    "client = OpenAI(api_key=api_key, base_url=\"https://openai.vivgrid.com/v1\")\n",
    "messages = []"
   ]
  },
  {
   "cell_type": "code",
   "execution_count": 2,
   "id": "42d90860-d30c-4976-8f50-0335e6fbeee2",
   "metadata": {},
   "outputs": [],
   "source": [
    "def chat_with_history(prompt):\n",
    "    messages.append({\"role\": \"user\", \"content\": prompt})\n",
    "    \n",
    "    completion = client.chat.completions.create(\n",
    "        model=\"gpt-4o\", # python-sdk required\n",
    "        messages=messages,\n",
    "    )\n",
    "\n",
    "    message = completion.choices[0].message\n",
    "    messages.append({\"role\": message.role, \"content\": message.content})\n",
    "\n",
    "    return message.content"
   ]
  },
  {
   "cell_type": "code",
   "execution_count": 5,
   "id": "0eaae857-613b-4b0b-8fe6-945f1dfd2b85",
   "metadata": {},
   "outputs": [
    {
     "name": "stdout",
     "output_type": "stream",
     "text": [
      "The current status is as follows:\n",
      "- **LED Display Number:** 2929\n",
      "- **PLC State:** Active (True)\n",
      "\n",
      "If you have any more questions or need further assistance, feel free to ask!\n"
     ]
    }
   ],
   "source": [
    "print(chat_with_history(\"Hi, can you tell the current status of the LED and PLC?\"))"
   ]
  },
  {
   "cell_type": "code",
   "execution_count": 6,
   "id": "d5e6fe2e-dc3b-4e2e-b376-f410fde6d9f9",
   "metadata": {},
   "outputs": [
    {
     "name": "stdout",
     "output_type": "stream",
     "text": [
      "The LED display number has been successfully increased by 5 and is now 2934. If you need any further assistance, please let me know!\n"
     ]
    }
   ],
   "source": [
    "print(chat_with_history(\"Can you increase the display number on the LED by 5?\"))"
   ]
  },
  {
   "cell_type": "code",
   "execution_count": 7,
   "id": "27c8bd91-a727-48d1-a94d-b9cec06323fd",
   "metadata": {},
   "outputs": [
    {
     "name": "stdout",
     "output_type": "stream",
     "text": [
      "The PLC output state has been successfully switched to the opposite state and is now Inactive (False). If you need any further assistance, feel free to ask!\n"
     ]
    }
   ],
   "source": [
    "print(chat_with_history(\"Can you switch the PLC output to the opposite state?\"))"
   ]
  }
 ],
 "metadata": {
  "kernelspec": {
   "display_name": "Python 3 (ipykernel)",
   "language": "python",
   "name": "python3"
  },
  "language_info": {
   "codemirror_mode": {
    "name": "ipython",
    "version": 3
   },
   "file_extension": ".py",
   "mimetype": "text/x-python",
   "name": "python",
   "nbconvert_exporter": "python",
   "pygments_lexer": "ipython3",
   "version": "3.12.6"
  }
 },
 "nbformat": 4,
 "nbformat_minor": 5
}
